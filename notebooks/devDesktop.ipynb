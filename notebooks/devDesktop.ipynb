{
 "cells": [
  {
   "cell_type": "code",
   "id": "initial_id",
   "metadata": {
    "collapsed": true,
    "ExecuteTime": {
     "end_time": "2025-10-01T16:14:54.495839Z",
     "start_time": "2025-10-01T16:14:51.981726Z"
    }
   },
   "source": [
    "import rdflib\n",
    "from wikidataintegrator import wdi_core"
   ],
   "outputs": [],
   "execution_count": 2
  },
  {
   "metadata": {
    "ExecuteTime": {
     "end_time": "2025-10-01T16:16:57.467025Z",
     "start_time": "2025-10-01T16:16:53.120545Z"
    }
   },
   "cell_type": "code",
   "source": [
    "query = \"\"\" SELECT * WHERE { ?s ?p ?o } LIMIT 10\"\"\"\n",
    "results = wdi_core.WDItemEngine.execute_sparql_query(query, endpoint=\"https://sparql.uniprot.org/sparql\", as_dataframe=True)\n",
    "results\n"
   ],
   "id": "15a3b22b0ea1f633",
   "outputs": [
    {
     "data": {
      "text/plain": [
       "                                                   s  \\\n",
       "0  http://purl.uniprot.org/uniprot/O13227#SIP556A...   \n",
       "1  http://purl.uniprot.org/uniprot/O82081#SIPB8F7...   \n",
       "2  http://purl.uniprot.org/uniprot/P00309#SIP7047...   \n",
       "3  http://purl.uniprot.org/uniprot/P00313#SIP782E...   \n",
       "4  http://purl.uniprot.org/uniprot/P15647#SIPD709...   \n",
       "5  http://purl.uniprot.org/uniprot/P35796#SIP862E...   \n",
       "6  http://purl.uniprot.org/uniprot/P35797#SIP4695...   \n",
       "7  http://purl.uniprot.org/uniprot/P51471#SIP5EF4...   \n",
       "8  http://purl.uniprot.org/uniprot/P51475#SIP97AE...   \n",
       "9  http://purl.uniprot.org/uniprot/P51873#SIPD674...   \n",
       "\n",
       "                                      p      o  \n",
       "0  http://purl.uniprot.org/core/certain  false  \n",
       "1  http://purl.uniprot.org/core/certain  false  \n",
       "2  http://purl.uniprot.org/core/certain  false  \n",
       "3  http://purl.uniprot.org/core/certain  false  \n",
       "4  http://purl.uniprot.org/core/certain  false  \n",
       "5  http://purl.uniprot.org/core/certain  false  \n",
       "6  http://purl.uniprot.org/core/certain  false  \n",
       "7  http://purl.uniprot.org/core/certain  false  \n",
       "8  http://purl.uniprot.org/core/certain  false  \n",
       "9  http://purl.uniprot.org/core/certain  false  "
      ],
      "text/html": [
       "<div>\n",
       "<style scoped>\n",
       "    .dataframe tbody tr th:only-of-type {\n",
       "        vertical-align: middle;\n",
       "    }\n",
       "\n",
       "    .dataframe tbody tr th {\n",
       "        vertical-align: top;\n",
       "    }\n",
       "\n",
       "    .dataframe thead th {\n",
       "        text-align: right;\n",
       "    }\n",
       "</style>\n",
       "<table border=\"1\" class=\"dataframe\">\n",
       "  <thead>\n",
       "    <tr style=\"text-align: right;\">\n",
       "      <th></th>\n",
       "      <th>s</th>\n",
       "      <th>p</th>\n",
       "      <th>o</th>\n",
       "    </tr>\n",
       "  </thead>\n",
       "  <tbody>\n",
       "    <tr>\n",
       "      <th>0</th>\n",
       "      <td>http://purl.uniprot.org/uniprot/O13227#SIP556A...</td>\n",
       "      <td>http://purl.uniprot.org/core/certain</td>\n",
       "      <td>false</td>\n",
       "    </tr>\n",
       "    <tr>\n",
       "      <th>1</th>\n",
       "      <td>http://purl.uniprot.org/uniprot/O82081#SIPB8F7...</td>\n",
       "      <td>http://purl.uniprot.org/core/certain</td>\n",
       "      <td>false</td>\n",
       "    </tr>\n",
       "    <tr>\n",
       "      <th>2</th>\n",
       "      <td>http://purl.uniprot.org/uniprot/P00309#SIP7047...</td>\n",
       "      <td>http://purl.uniprot.org/core/certain</td>\n",
       "      <td>false</td>\n",
       "    </tr>\n",
       "    <tr>\n",
       "      <th>3</th>\n",
       "      <td>http://purl.uniprot.org/uniprot/P00313#SIP782E...</td>\n",
       "      <td>http://purl.uniprot.org/core/certain</td>\n",
       "      <td>false</td>\n",
       "    </tr>\n",
       "    <tr>\n",
       "      <th>4</th>\n",
       "      <td>http://purl.uniprot.org/uniprot/P15647#SIPD709...</td>\n",
       "      <td>http://purl.uniprot.org/core/certain</td>\n",
       "      <td>false</td>\n",
       "    </tr>\n",
       "    <tr>\n",
       "      <th>5</th>\n",
       "      <td>http://purl.uniprot.org/uniprot/P35796#SIP862E...</td>\n",
       "      <td>http://purl.uniprot.org/core/certain</td>\n",
       "      <td>false</td>\n",
       "    </tr>\n",
       "    <tr>\n",
       "      <th>6</th>\n",
       "      <td>http://purl.uniprot.org/uniprot/P35797#SIP4695...</td>\n",
       "      <td>http://purl.uniprot.org/core/certain</td>\n",
       "      <td>false</td>\n",
       "    </tr>\n",
       "    <tr>\n",
       "      <th>7</th>\n",
       "      <td>http://purl.uniprot.org/uniprot/P51471#SIP5EF4...</td>\n",
       "      <td>http://purl.uniprot.org/core/certain</td>\n",
       "      <td>false</td>\n",
       "    </tr>\n",
       "    <tr>\n",
       "      <th>8</th>\n",
       "      <td>http://purl.uniprot.org/uniprot/P51475#SIP97AE...</td>\n",
       "      <td>http://purl.uniprot.org/core/certain</td>\n",
       "      <td>false</td>\n",
       "    </tr>\n",
       "    <tr>\n",
       "      <th>9</th>\n",
       "      <td>http://purl.uniprot.org/uniprot/P51873#SIPD674...</td>\n",
       "      <td>http://purl.uniprot.org/core/certain</td>\n",
       "      <td>false</td>\n",
       "    </tr>\n",
       "  </tbody>\n",
       "</table>\n",
       "</div>"
      ]
     },
     "execution_count": 6,
     "metadata": {},
     "output_type": "execute_result"
    }
   ],
   "execution_count": 6
  }
 ],
 "metadata": {
  "kernelspec": {
   "display_name": "Python 3",
   "language": "python",
   "name": "python3"
  },
  "language_info": {
   "codemirror_mode": {
    "name": "ipython",
    "version": 2
   },
   "file_extension": ".py",
   "mimetype": "text/x-python",
   "name": "python",
   "nbconvert_exporter": "python",
   "pygments_lexer": "ipython2",
   "version": "2.7.6"
  }
 },
 "nbformat": 4,
 "nbformat_minor": 5
}
